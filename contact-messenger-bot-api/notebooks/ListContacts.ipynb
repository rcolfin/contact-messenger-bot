{
 "cells": [
  {
   "cell_type": "code",
   "execution_count": null,
   "id": "163632a2-ff18-49f7-b194-80bc23f68ebf",
   "metadata": {},
   "outputs": [],
   "source": [
    "from pathlib import Path\n",
    "\n",
    "from contact_messenger_bot.api import oauth2, services\n",
    "\n",
    "credentials_file = Path(Path.cwd(), \"../credentials.json\").resolve()\n",
    "token_file = Path(Path.cwd(), \"../token.json\").resolve()\n",
    "zip_code_cache_file = Path(Path.cwd(), \"../zip-code-cache.json\").resolve()\n",
    "\n",
    "with services.ZipCode(zip_code_cache_file) as zipcode_svc:\n",
    "    creds = oauth2.CredentialsManager(credentials_file, token_file)\n",
    "    contact_svc = services.Contacts(creds, zipcode_svc)\n",
    "    contact_lst = contact_svc.get_contacts()\n",
    "\n",
    "    for contact in contact_lst:\n",
    "        print(contact)"
   ]
  },
  {
   "cell_type": "code",
   "execution_count": null,
   "id": "7be9e01d-fab8-4e10-bd71-284a02c4fc62",
   "metadata": {},
   "outputs": [],
   "source": []
  }
 ],
 "metadata": {
  "kernelspec": {
   "display_name": "Python 3 (ipykernel)",
   "language": "python",
   "name": "python3"
  },
  "language_info": {
   "codemirror_mode": {
    "name": "ipython",
    "version": 3
   },
   "file_extension": ".py",
   "mimetype": "text/x-python",
   "name": "python",
   "nbconvert_exporter": "python",
   "pygments_lexer": "ipython3",
   "version": "3.13.0"
  }
 },
 "nbformat": 4,
 "nbformat_minor": 5
}
